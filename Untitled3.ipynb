{
  "nbformat": 4,
  "nbformat_minor": 0,
  "metadata": {
    "colab": {
      "name": "Untitled3.ipynb",
      "provenance": [],
      "collapsed_sections": [],
      "authorship_tag": "ABX9TyOq8Ba+iZ0LDVH3h9ogog25",
      "include_colab_link": true
    },
    "kernelspec": {
      "name": "python3",
      "display_name": "Python 3"
    },
    "language_info": {
      "name": "python"
    }
  },
  "cells": [
    {
      "cell_type": "markdown",
      "metadata": {
        "id": "view-in-github",
        "colab_type": "text"
      },
      "source": [
        "<a href=\"https://colab.research.google.com/github/MugeshRaj11/py/blob/main/Untitled3.ipynb\" target=\"_parent\"><img src=\"https://colab.research.google.com/assets/colab-badge.svg\" alt=\"Open In Colab\"/></a>"
      ]
    },
    {
      "cell_type": "code",
      "execution_count": null,
      "metadata": {
        "id": "zTVvuuo6oRu3"
      },
      "outputs": [],
      "source": [
        "array = np.array([\n",
        "    [3, 7, 1],\n",
        "    [10, 3, 2],\n",
        "    [5, 6, 7]\n",
        "])\n",
        "print(array)\n",
        "print()\n",
        "print(np.sort(array, axis=None))\n",
        "print(np.sort(array, axis=1))\n",
        "print(np.sort(array, axis=0))\n",
        "print()\n",
        "list = [\n",
        "    np.array([3, 2, 8, 9]),\n",
        "    np.array([4, 12, 34, 25, 78]),\n",
        "    np.array([23, 12, 67])\n",
        "]\n",
        "\n",
        "result = []\n",
        "for i in range(len(list)):\n",
        "    result.append(np.mean(list[i]))\n",
        "print(\"Mean is: \", result)"
      ]
    }
  ]
}